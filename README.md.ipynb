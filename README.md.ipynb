{
 "cells": [
  {
   "cell_type": "markdown",
   "id": "4f5d7875",
   "metadata": {},
   "source": [
    "## The Best Classifier\n",
    "In this project, I built a classifier to predict whether a loan case will be paid off or not. <br>\n",
    "I loaded a historical dataset from previous loan applications, cleaned the data, and applied different classification algorithms on the data. I used the following algorithms to build my models:\n",
    "- k-Nearest Neighbour\n",
    "- Decision Tree\n",
    "- Support Vector Machine\n",
    "- Logistic Regression<br>\n",
    "\n",
    "\n",
    "The results is reported as the accuracy of each classifier, using the following metrics when these are applicable:\n",
    "- Jaccard index\n",
    "- F1-score\n",
    "- LogLoss\n",
    " \n",
    "\n",
    "\n"
   ]
  }
 ],
 "metadata": {
  "kernelspec": {
   "display_name": "Python 3 (ipykernel)",
   "language": "python",
   "name": "python3"
  },
  "language_info": {
   "codemirror_mode": {
    "name": "ipython",
    "version": 3
   },
   "file_extension": ".py",
   "mimetype": "text/x-python",
   "name": "python",
   "nbconvert_exporter": "python",
   "pygments_lexer": "ipython3",
   "version": "3.9.12"
  }
 },
 "nbformat": 4,
 "nbformat_minor": 5
}
